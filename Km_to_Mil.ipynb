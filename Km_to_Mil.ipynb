{
  "nbformat": 4,
  "nbformat_minor": 0,
  "metadata": {
    "colab": {
      "name": "Km to Mil.ipynb",
      "provenance": [],
      "collapsed_sections": [],
      "include_colab_link": true
    },
    "kernelspec": {
      "name": "python3",
      "display_name": "Python 3"
    }
  },
  "cells": [
    {
      "cell_type": "markdown",
      "metadata": {
        "id": "view-in-github",
        "colab_type": "text"
      },
      "source": [
        "<a href=\"https://colab.research.google.com/github/orcunmadran/hu-bby261-2020/blob/main/Km_to_Mil.ipynb\" target=\"_parent\"><img src=\"https://colab.research.google.com/assets/colab-badge.svg\" alt=\"Open In Colab\"/></a>"
      ]
    },
    {
      "cell_type": "markdown",
      "metadata": {
        "id": "lH2y_8JX3531"
      },
      "source": [
        "#Mili Kilometreye Çeviren Model\n",
        "\n",
        "Bu uygulama Udacity'nin TensorFlow'a Giriş dersinin ilk uygulamasından örnek alınarak oluşturulmuştur.\n",
        "\n",
        "Gerçek hayattaki formül: 1 mil = 2.54 × 10 üssü -8 kilometers"
      ]
    },
    {
      "cell_type": "code",
      "metadata": {
        "id": "U_T4weCr4MFX",
        "cellView": "code",
        "colab": {
          "base_uri": "https://localhost:8080/",
          "height": 380
        },
        "outputId": "0246611f-bc74-46b6-fd9d-38e880e3aef2"
      },
      "source": [
        "from __future__ import absolute_import, division, print_function, unicode_literals\n",
        "\n",
        "try:\n",
        "  # Use the %tensorflow_version magic if in colab.\n",
        "  %tensorflow_version 2.x\n",
        "except Exception:\n",
        "  pass\n",
        "\n",
        "import tensorflow as tf\n",
        "\n",
        "import numpy as np\n",
        "import logging\n",
        "import matplotlib.pyplot as plt\n",
        "logger = tf.get_logger()\n",
        "logger.setLevel(logging.ERROR)\n",
        "\n",
        "km_q  = np.array([50,     70,    83,    63,    150,   45,    98,    42,    84,    51],  dtype=float)\n",
        "mil_a = np.array([31.06,  53.49, 51.57, 39.14, 93.20, 27.96, 60.89, 26.09, 52.19, 31.68],  dtype=float)\n",
        "\n",
        "l0 = tf.keras.layers.Dense(units=1, input_shape=[1])\n",
        "\n",
        "model = tf.keras.Sequential([l0])\n",
        "\n",
        "model.compile(loss='mean_squared_error', optimizer=tf.keras.optimizers.Adam(0.1))\n",
        "\n",
        "egitimDongusu = int(input(\"Eğitim döngü sayısı: \"))\n",
        "history = model.fit(km_q, mil_a, epochs=egitimDongusu, verbose=False)\n",
        "print(\"Finished training the model\")\n",
        "\n",
        "plt.xlabel('Epoch Number')\n",
        "plt.ylabel(\"Loss Magnitude\")\n",
        "plt.plot(history.history['loss'])\n",
        "\n",
        "tahminEdilecek = float(input(\"Km değer giriniz: \"))\n",
        "\n",
        "print(\"Tahmin edilen: {} mil\".format(model.predict([tahminEdilecek])))\n",
        "print(\"Gerçek değer: {} mil\".format(tahminEdilecek*0.62))\n",
        "\n",
        "print(\"These are the layer variables: {}\".format(l0.get_weights()))"
      ],
      "execution_count": null,
      "outputs": [
        {
          "output_type": "stream",
          "text": [
            "Eğitim döngü sayısı: 100\n",
            "Finished training the model\n",
            "Km değer giriniz: 50\n",
            "Tahmin edilen: [[31.76475]] mil\n",
            "Gerçek değer: 31.0 mil\n",
            "These are the layer variables: [array([[0.6241206]], dtype=float32), array([0.5587202], dtype=float32)]\n"
          ],
          "name": "stdout"
        },
        {
          "output_type": "display_data",
          "data": {
            "image/png": "[encoded data removed]",
            "text/plain": [
              "<Figure size 432x288 with 1 Axes>"
            ]
          },
          "metadata": {
            "tags": []
          }
        }
      ]
    }
  ]
}