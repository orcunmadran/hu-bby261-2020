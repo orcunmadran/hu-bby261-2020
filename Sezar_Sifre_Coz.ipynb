{
  "nbformat": 4,
  "nbformat_minor": 0,
  "metadata": {
    "colab": {
      "name": "Sezar_Sifre_Coz.ipynb",
      "provenance": [],
      "include_colab_link": true
    },
    "kernelspec": {
      "name": "python3",
      "display_name": "Python 3"
    }
  },
  "cells": [
    {
      "cell_type": "markdown",
      "metadata": {
        "id": "view-in-github",
        "colab_type": "text"
      },
      "source": [
        "<a href=\"https://colab.research.google.com/github/orcunmadran/hu-bby261-2020/blob/main/Sezar_Sifre_Coz.ipynb\" target=\"_parent\"><img src=\"https://colab.research.google.com/assets/colab-badge.svg\" alt=\"Open In Colab\"/></a>"
      ]
    },
    {
      "cell_type": "code",
      "metadata": {
        "id": "3c6lfB1ZUNVo",
        "colab": {
          "base_uri": "https://localhost:8080/"
        },
        "outputId": "8cbf2a4f-bfc1-4ebb-d28a-38fbc292f646"
      },
      "source": [
        "import string\n",
        "tumAlfabe = string.printable\n",
        "alfabe = [\"ç\", \"ğ\", \"ı\", \"ö\", \"ş\", \"ü\", \"Ç\", \"Ğ\", \"İ\", \"Ö\", \"Ş\", \"Ü\"]\n",
        "for ka in tumAlfabe:\n",
        "  alfabe.append(ka)\n",
        "cumleSifresiz = \"\"\n",
        "cumleSifreli = input(\"Şifrelenmiş cümleyi giriniz: \")\n",
        "anahtar = int(input(\"Şifreleme anahtarını giriniz: \"))\n",
        "for i in cumleSifreli:  \n",
        "    cumleSifresiz += alfabe[(alfabe.index(i)-anahtar) % len(alfabe)]\n",
        "print(\"Şifresiz Cümle: \"+cumleSifresiz)"
      ],
      "execution_count": 1,
      "outputs": [
        {
          "output_type": "stream",
          "text": [
            "Şifrelenmiş cümleyi giriniz: 1qjwn\fUwtlwfrqfrf\n",
            "Şifreleme anahtarını giriniz: 5\n",
            "Şifresiz Cümle: İleri Programlama\n"
          ],
          "name": "stdout"
        }
      ]
    }
  ]
}