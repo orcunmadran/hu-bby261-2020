{
  "nbformat": 4,
  "nbformat_minor": 0,
  "metadata": {
    "colab": {
      "name": "Sezar_Sifrele.ipynb",
      "provenance": [],
      "include_colab_link": true
    },
    "kernelspec": {
      "name": "python3",
      "display_name": "Python 3"
    }
  },
  "cells": [
    {
      "cell_type": "markdown",
      "metadata": {
        "id": "view-in-github",
        "colab_type": "text"
      },
      "source": [
        "<a href=\"https://colab.research.google.com/github/orcunmadran/hu-bby261-2020/blob/main/Sezar_Sifrele.ipynb\" target=\"_parent\"><img src=\"https://colab.research.google.com/assets/colab-badge.svg\" alt=\"Open In Colab\"/></a>"
      ]
    },
    {
      "cell_type": "code",
      "metadata": {
        "id": "xnK8x0oKTvcY",
        "colab": {
          "base_uri": "https://localhost:8080/"
        },
        "outputId": "a7d222e3-2ed4-408e-e40c-7f82888c4f28"
      },
      "source": [
        "import string\n",
        "tumAlfabe = string.printable\n",
        "alfabe = [\"ç\", \"ğ\", \"ı\", \"ö\", \"ş\", \"ü\", \"Ç\", \"Ğ\", \"İ\", \"Ö\", \"Ş\", \"Ü\"]\n",
        "for ka in tumAlfabe:\n",
        "  alfabe.append(ka)\n",
        "cumleSifreli = \"\"\n",
        "cumle = input(\"Şifrelenecek cümleyi giriniz: \")\n",
        "anahtar = int(input(\"Şifreleme anahtarını giriniz: \"))\n",
        "for i in cumle:  \n",
        "    cumleSifreli += alfabe[(alfabe.index(i)+anahtar) % len(alfabe)]\n",
        "print(\"Şifrelenmiş cümle: \", cumleSifreli)"
      ],
      "execution_count": 4,
      "outputs": [
        {
          "output_type": "stream",
          "text": [
            "Şifrelenecek cümleyi giriniz: İleri Programlama\n",
            "Şifreleme anahtarını giriniz: 5\n",
            "Şifrelenmiş cümle:  1qjwn\fUwtlwfrqfrf\n"
          ],
          "name": "stdout"
        }
      ]
    }
  ]
}