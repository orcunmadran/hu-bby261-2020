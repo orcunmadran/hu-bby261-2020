{
  "nbformat": 4,
  "nbformat_minor": 0,
  "metadata": {
    "colab": {
      "name": "Hackathon_Sezar_Sifreleme.ipynb",
      "provenance": [],
      "authorship_tag": "ABX9TyNPFctrLZIFBuwFNLC4xHFX",
      "include_colab_link": true
    },
    "kernelspec": {
      "name": "python3",
      "display_name": "Python 3"
    }
  },
  "cells": [
    {
      "cell_type": "markdown",
      "metadata": {
        "id": "view-in-github",
        "colab_type": "text"
      },
      "source": [
        "<a href=\"https://colab.research.google.com/github/orcunmadran/hu-bby261-2020/blob/main/Hackathon_Sezar_Sifreleme.ipynb\" target=\"_parent\"><img src=\"https://colab.research.google.com/assets/colab-badge.svg\" alt=\"Open In Colab\"/></a>"
      ]
    },
    {
      "cell_type": "code",
      "metadata": {
        "id": "xqmceV0shM1g",
        "outputId": "68d58cee-38ee-4a66-9189-b06ba36ba98a",
        "colab": {
          "base_uri": "https://localhost:8080/"
        }
      },
      "source": [
        "import string\n",
        "tumAlfabe = string.printable\n",
        "alfabe = [\"ç\", \"ğ\", \"ı\", \"ö\", \"ş\", \"ü\", \"Ç\", \"Ğ\", \"I\", \"Ö\", \"Ş\", \"Ü\"]\n",
        "for ka in tumAlfabe:\n",
        "  alfabe.append(ka)\n",
        "print(alfabe)\n",
        "\n",
        "cumleSifreli = \"\"\n",
        "cumleSifresiz = \"\"\n",
        " \n",
        "cumle = input(\"Cümleyi Giriniz: \")\n",
        "anahtar = int(input(\"Anahtarı Giriniz: \"))\n",
        "for i in cumle:  \n",
        "    cumleSifreli += alfabe[(alfabe.index(i)+anahtar) % len(alfabe)]\n",
        "print(\"Şifreli cümle: \", cumleSifreli)\n",
        "print(\"Şifre çözülüyor...\")\n",
        "for i in cumleSifreli:  \n",
        "    cumleSifresiz += alfabe[(alfabe.index(i)-anahtar) % len(alfabe)]\n",
        "print(cumleSifresiz)"
      ],
      "execution_count": 33,
      "outputs": [
        {
          "output_type": "stream",
          "text": [
            "['ç', 'ğ', 'ı', 'ö', 'ş', 'ü', 'Ç', 'Ğ', 'I', 'Ö', 'Ş', 'Ü', '0', '1', '2', '3', '4', '5', '6', '7', '8', '9', 'a', 'b', 'c', 'd', 'e', 'f', 'g', 'h', 'i', 'j', 'k', 'l', 'm', 'n', 'o', 'p', 'q', 'r', 's', 't', 'u', 'v', 'w', 'x', 'y', 'z', 'A', 'B', 'C', 'D', 'E', 'F', 'G', 'H', 'I', 'J', 'K', 'L', 'M', 'N', 'O', 'P', 'Q', 'R', 'S', 'T', 'U', 'V', 'W', 'X', 'Y', 'Z', '!', '\"', '#', '$', '%', '&', \"'\", '(', ')', '*', '+', ',', '-', '.', '/', ':', ';', '<', '=', '>', '?', '@', '[', '\\\\', ']', '^', '_', '`', '{', '|', '}', '~', ' ', '\\t', '\\n', '\\r', '\\x0b', '\\x0c']\n",
            "Cümleyi Giriniz: Merhaba Orçun, nasılsın? !!!\n",
            "Anahtarı Giriniz: 1\n",
            "Şifreli cümle:  Nfsibcb\tPsğvo-\tobtömtöo@\t\"\"\"\n",
            "Şifre çözülüyor...\n",
            "Merhaba Orçun, nasılsın? !!!\n"
          ],
          "name": "stdout"
        }
      ]
    }
  ]
}