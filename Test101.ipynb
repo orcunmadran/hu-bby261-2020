{
  "nbformat": 4,
  "nbformat_minor": 0,
  "metadata": {
    "colab": {
      "name": "Test101.ipynb",
      "provenance": [],
      "toc_visible": true,
      "authorship_tag": "ABX9TyOR7ymCf7Nk97/YbG6cQ8QA",
      "include_colab_link": true
    },
    "kernelspec": {
      "name": "python3",
      "display_name": "Python 3"
    }
  },
  "cells": [
    {
      "cell_type": "markdown",
      "metadata": {
        "id": "view-in-github",
        "colab_type": "text"
      },
      "source": [
        "<a href=\"https://colab.research.google.com/github/orcunmadran/hu-bby261-2020/blob/main/Test101.ipynb\" target=\"_parent\"><img src=\"https://colab.research.google.com/assets/colab-badge.svg\" alt=\"Open In Colab\"/></a>"
      ]
    },
    {
      "cell_type": "markdown",
      "metadata": {
        "id": "lne2aYqNNkD2"
      },
      "source": [
        "# Örnek Çalışma Defteri\n",
        "Bu çalışma defteri örnek kodlar içermektedir.\n",
        "[www.madran.net](http://www.madran.net)"
      ]
    },
    {
      "cell_type": "markdown",
      "metadata": {
        "id": "GKMDWBCWOEcK"
      },
      "source": [
        "Çalışmalar ile ilgili özet bölümü...."
      ]
    },
    {
      "cell_type": "code",
      "metadata": {
        "id": "Wkv8ReWlOEE6"
      },
      "source": [
        "deger = input(\"Veri giriniz\")\n",
        "print(deger)"
      ],
      "execution_count": null,
      "outputs": []
    }
  ]
}